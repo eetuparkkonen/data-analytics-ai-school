{
 "cells": [
  {
   "cell_type": "markdown",
   "metadata": {},
   "source": [
    "## Exercise 10 - Text classification with Tensorflow\r\n",
    "- In this exercise you utilize the *DisneylandReviews.csv* located in data_files directory.\r\n",
    "- This exercise has the following phases:\r\n",
    "    - Load the data from csv file.\r\n",
    "    - Create directory structure including sample files from the data you loaded.\r\n",
    "    - Train your neural network with the extracted data.\r\n",
    "    - Validate the operation of your trained model.\r\n",
    "- Use [this example](https://hantt.pages.labranet.jamk.fi/ttc2050-material/material/10-ai-text-classification-tensorflow/) as a reference."
   ]
  },
  {
   "cell_type": "markdown",
   "metadata": {},
   "source": [
    "1 Import all the necessary libraries listed in our Tensorflow example. Read the csv file DisneylandReviews.csv into a data structure of your choice (list, dict, json...)."
   ]
  },
  {
   "cell_type": "code",
   "execution_count": 1,
   "metadata": {},
   "outputs": [],
   "source": [
    "import matplotlib.pyplot as plt\n",
    "import os\n",
    "import re\n",
    "import shutil\n",
    "import string\n",
    "import tensorflow as tf\n",
    "import csv\n",
    "import random\n",
    "\n",
    "from tensorflow.keras import layers, losses, preprocessing\n",
    "from tensorflow.keras.layers.experimental.preprocessing import TextVectorization"
   ]
  },
  {
   "cell_type": "code",
   "execution_count": 2,
   "metadata": {},
   "outputs": [],
   "source": [
    "batch_size = 32\n",
    "validation_split = 0.2\n",
    "seed = 42\n",
    "dataset_dir = 'disney_review_data'\n",
    "max_features = 10000\n",
    "\n",
    "A = [1,2,3,4,5,6]\n",
    "B = A[:len(A)//2]\n",
    "C = A[len(A)//2:]"
   ]
  },
  {
   "cell_type": "code",
   "execution_count": 3,
   "metadata": {},
   "outputs": [],
   "source": [
    "with open(\"./data_files/DisneylandReviews.csv\") as f:\n",
    "    reader = csv.reader(f)\n",
    "    data = list(reader)\n",
    "\n",
    "data.pop(0)\n",
    "\n",
    "\n",
    "\n",
    "for i in range(len(data)):\n",
    "    data[i][1] = int(data[i][1])\n",
    "\n",
    "random.shuffle(data)\n",
    "    \n",
    "traindirdata = data[:int((len(data)+1)*.80)]\n",
    "\n",
    "testdirdata = data[int((len(data)+1)*.80):]\n"
   ]
  },
  {
   "cell_type": "markdown",
   "metadata": {},
   "source": [
    "2 Create the directory structure presented below either by using python's os library or manually. So there should be *disney_review_data* directory which has two subdirectories: *train* and *test*. Both of those directories should then have two subdirectories: *pos* and *neg*.\r\n",
    "\r\n",
    "```\r\n",
    "disney_review_data\r\n",
    "    |\r\n",
    "    |----train\r\n",
    "    |      |----pos\r\n",
    "    |      |----neg\r\n",
    "    |\r\n",
    "    |----test\r\n",
    "           |----pos\r\n",
    "           |----neg\r\n",
    "```"
   ]
  },
  {
   "cell_type": "code",
   "execution_count": 4,
   "metadata": {},
   "outputs": [],
   "source": [
    "os.listdir(dataset_dir)\n",
    "train_dir = os.path.join(dataset_dir, 'train')\n",
    "test_dir = os.path.join(dataset_dir, 'test')\n",
    "\n",
    "if os.path.exists(os.path.join(train_dir, '.ipynb_checkpoints')):\n",
    "    remove_dir = os.path.join(train_dir, '.ipynb_checkpoints')\n",
    "    shutil.rmtree(remove_dir)\n",
    "    \n",
    "if os.path.exists(os.path.join(test_dir, '.ipynb_checkpoints')):\n",
    "    remove_dir = os.path.join(test_dir, '.ipynb_checkpoints')\n",
    "    shutil.rmtree(remove_dir)"
   ]
  },
  {
   "cell_type": "markdown",
   "metadata": {},
   "source": [
    "3 Loop through your saved data and save it as text files (.txt) into the directory structure. First 80 % of the data should go into *pos* and *neg* subdirectories under the *train* directory with the following conditions:\r\n",
    "- pos = rating is 4 or more\r\n",
    "- neg = rating is 2 or less\r\n",
    "\r\n",
    "The last 20 % should go into the *pos* and *neg* subdirectories under the *test* directory using the same conditions as above. Rating value of 3 is considered to be neutral and should not be processed."
   ]
  },
  {
   "cell_type": "code",
   "execution_count": 5,
   "metadata": {},
   "outputs": [],
   "source": [
    "for i in range(len(traindirdata)):\n",
    "    if(traindirdata[i][1] >= 4):\n",
    "        posf = open(\"./disney_review_data/train/pos/testfile{}.txt\".format(i), \"w+\")\n",
    "        posf.write(traindirdata[i][4])\n",
    "        posf.close()\n",
    "    elif(data[i][1] <= 2):\n",
    "        negf = open(\"./disney_review_data/train/neg/testfile{}.txt\".format(i), \"w+\")\n",
    "        negf.write(traindirdata[i][4])\n",
    "        negf.close()\n",
    "        "
   ]
  },
  {
   "cell_type": "code",
   "execution_count": 6,
   "metadata": {},
   "outputs": [],
   "source": [
    "for i in range(len(testdirdata)):\n",
    "    if(testdirdata[i][1] >= 4):\n",
    "        pos = open(\"./disney_review_data/test/pos/testfile{}.txt\".format(i), \"w+\")\n",
    "        pos.write(testdirdata[i][4])\n",
    "        pos.close()\n",
    "    elif(testdirdata[i][1] <= 2):\n",
    "        neg = open(\"./disney_review_data/test/neg/testfile{}.txt\".format(i), \"w+\")\n",
    "        neg.write(testdirdata[i][4])\n",
    "        neg.close()\n",
    "        "
   ]
  },
  {
   "cell_type": "markdown",
   "metadata": {},
   "source": [
    "4 Use material page linked above as a reference and implement the text classification example to your notebook. Now modify it so that your Disneyland review data will be read from the directory structure you created earlier. Run the notebook and ensure that no errors are present."
   ]
  },
  {
   "cell_type": "code",
   "execution_count": 7,
   "metadata": {},
   "outputs": [
    {
     "name": "stdout",
     "output_type": "stream",
     "text": [
      "Found 30058 files belonging to 2 classes.\n",
      "Using 24047 files for training.\n"
     ]
    }
   ],
   "source": [
    "raw_train_ds = tf.keras.preprocessing.text_dataset_from_directory('disney_review_data/train', batch_size=batch_size, validation_split=validation_split, subset=\"training\", seed=seed)\n"
   ]
  },
  {
   "cell_type": "code",
   "execution_count": 8,
   "metadata": {},
   "outputs": [
    {
     "name": "stdout",
     "output_type": "stream",
     "text": [
      "['neg', 'pos']\n"
     ]
    }
   ],
   "source": [
    "print(raw_train_ds.class_names)"
   ]
  },
  {
   "cell_type": "code",
   "execution_count": 9,
   "metadata": {},
   "outputs": [
    {
     "name": "stdout",
     "output_type": "stream",
     "text": [
      "Found 30058 files belonging to 2 classes.\n",
      "Using 6011 files for validation.\n"
     ]
    }
   ],
   "source": [
    "raw_val_ds = tf.keras.preprocessing.text_dataset_from_directory('disney_review_data/train', batch_size=batch_size, validation_split=validation_split, subset='validation', seed=seed)"
   ]
  },
  {
   "cell_type": "code",
   "execution_count": 10,
   "metadata": {},
   "outputs": [
    {
     "name": "stdout",
     "output_type": "stream",
     "text": [
      "Found 7489 files belonging to 2 classes.\n"
     ]
    }
   ],
   "source": [
    "raw_test_ds = tf.keras.preprocessing.text_dataset_from_directory('disney_review_data/test', batch_size=batch_size)\n"
   ]
  },
  {
   "cell_type": "code",
   "execution_count": 11,
   "metadata": {},
   "outputs": [],
   "source": [
    "def custom_standardization(input_data):\n",
    "  lowercase = tf.strings.lower(input_data)\n",
    "  stripped_html = tf.strings.regex_replace(lowercase, '<br />', ' ')\n",
    "  return tf.strings.regex_replace(stripped_html,'[%s]' % re.escape(string.punctuation),'')"
   ]
  },
  {
   "cell_type": "code",
   "execution_count": 12,
   "metadata": {},
   "outputs": [],
   "source": [
    "vectorize_layer = TextVectorization(\n",
    "    standardize=custom_standardization,\n",
    "    max_tokens=max_features,\n",
    "    output_mode='int',\n",
    "    output_sequence_length=250)"
   ]
  },
  {
   "cell_type": "code",
   "execution_count": 13,
   "metadata": {},
   "outputs": [],
   "source": [
    "train_text = raw_train_ds.map(lambda x, y: x)\n",
    "vectorize_layer.adapt(train_text)"
   ]
  },
  {
   "cell_type": "code",
   "execution_count": 14,
   "metadata": {},
   "outputs": [],
   "source": [
    "def vectorize_text(text, label):\n",
    "  text = tf.expand_dims(text, -1)\n",
    "  return vectorize_layer(text), label"
   ]
  },
  {
   "cell_type": "code",
   "execution_count": 15,
   "metadata": {},
   "outputs": [
    {
     "name": "stdout",
     "output_type": "stream",
     "text": [
      "Review b\"Been going to Disneyland for many years, first as a kid and now with my kids. It never gets old. There are a few tricks to making it a great day...try to go mid week for shorter lines. Be there when it opens. We often do 3 or 4 rides by 10 am, and then take a break for coffee. Know where you want to go (study the map) and take advantage of the fastpass. Our favorite rides: Space Mountain, Pirates, Big Thunder. Bring your own water bottles. Bring sunscreen. Take breaks. One nice break is to ride the train around the park   great to do when it is hot outside and everyone is getting tired. When you take a break, just look around. I want the gardening staff from Disney to take care of my house! Every flower and blade of grass is perfect. The buildings all look freshly painted. The employees (mostly) are nice. It is fun to ask them questions   like do you get to pick the ride you work on. Enjoy every detail, that's what makes it special from other amusement parks.\"\n",
      "Label 1\n",
      "Review b'This is a fabulous place to have a Birthday party at any age. I had more fun that i could have imagined. I love the new rides.'\n",
      "Label 1\n",
      "Review b\"It is a worth it experience. Enjoyed it together with my daughter and grandchildren's. Feels like young again.\"\n",
      "Label 1\n"
     ]
    }
   ],
   "source": [
    "for text_batch, label_batch in raw_train_ds.take(1):\n",
    "  for i in range(3):\n",
    "    print(\"Review\", text_batch.numpy()[i])\n",
    "    print(\"Label\", label_batch.numpy()[i])"
   ]
  },
  {
   "cell_type": "code",
   "execution_count": 16,
   "metadata": {},
   "outputs": [
    {
     "name": "stdout",
     "output_type": "stream",
     "text": [
      "Review tf.Tensor(b\"I went there two days ago with my daughter (16 y.o) and grandson (6 y.o), they both hated it! There were absolutely no parades or shows, and trust me, I triple checked with staff to see if any were on that day. There were very few rides, the ones that were open weren't available for the younger ones. There were many, many shops which were massively over priced, they defiantly upped the prices (  100 for a cowboy outfit!). The staff, costumed and un costumed were both rude and inactive with my grandson. The only character around was Mickey Mouse and you had to pay to take a picture with him! The food was overpriced and there was only fast food; on top of that I paid to stay at the 5* hotel on the park but they mixed up our reservation so I ended up paying for a more expensive room after waiting an hour. Seriously. Worst holiday ever!\", shape=(), dtype=string)\n",
      "Label neg\n",
      "Vectorized review (<tf.Tensor: shape=(1, 250), dtype=int64, numpy=\n",
      "array([[  14,   72,   29,  139,   92,  545,   23,   36,  253, 1394, 2272,\n",
      "           3, 1594,  324, 2272,   39,  178, 2550,   11,   29,   19,  394,\n",
      "          74,  242,   53,  189,    3, 2494,  149,   14, 4144, 1240,   23,\n",
      "         116,    4,   67,   41,  162,   19,   18,   21,   34,   29,   19,\n",
      "          43,  161,   25,    2,  305,   21,   19,  260,  534,  411,    9,\n",
      "           2,  656,  305,   29,   19,  100,  100,  338,   55,   19, 3909,\n",
      "         120,  725,   39, 3118, 7383,    2,  341,  890,    9,    5, 2524,\n",
      "        4064,    2,  116, 5753,    3, 3245, 5753,   19,  178,  533,    3,\n",
      "           1,   23,   36, 1594,    2,   66,  355,   93,   10,  214,  456,\n",
      "           3,   13,   37,    4,  414,    4,  107,    5,  832,   23,  659,\n",
      "           2,   57,   10,  716,    3,   29,   10,   66,   79,   57,   18,\n",
      "         586,    6,   21,   14,  551,    4,  227,   16,    2,  172,  138,\n",
      "          18,    2,   15,   17,   39, 2450,   71,   40, 1303,   27,   14,\n",
      "         786,   71,  901,    9,    5,   59,  148,  481,  141,  195,   65,\n",
      "         190, 1312,  979,  314,  299,    0,    0,    0,    0,    0,    0,\n",
      "           0,    0,    0,    0,    0,    0,    0,    0,    0,    0,    0,\n",
      "           0,    0,    0,    0,    0,    0,    0,    0,    0,    0,    0,\n",
      "           0,    0,    0,    0,    0,    0,    0,    0,    0,    0,    0,\n",
      "           0,    0,    0,    0,    0,    0,    0,    0,    0,    0,    0,\n",
      "           0,    0,    0,    0,    0,    0,    0,    0,    0,    0,    0,\n",
      "           0,    0,    0,    0,    0,    0,    0,    0,    0,    0,    0,\n",
      "           0,    0,    0,    0,    0,    0,    0,    0,    0,    0,    0,\n",
      "           0,    0,    0,    0,    0,    0,    0,    0]])>, <tf.Tensor: shape=(), dtype=int32, numpy=0>)\n"
     ]
    }
   ],
   "source": [
    "text_batch, label_batch = next(iter(raw_train_ds))\n",
    "test_review, test_label = text_batch[0], label_batch[0]\n",
    "print(\"Review\", test_review)\n",
    "print(\"Label\", raw_train_ds.class_names[test_label])\n",
    "print(\"Vectorized review\", vectorize_text(test_review, test_label))"
   ]
  },
  {
   "cell_type": "code",
   "execution_count": 17,
   "metadata": {},
   "outputs": [
    {
     "name": "stdout",
     "output_type": "stream",
     "text": [
      "2 --->  the\n",
      "7 --->  we\n",
      "10 --->  was\n",
      "Vocabulary size: 10000\n"
     ]
    }
   ],
   "source": [
    "print(\"2 ---> \",vectorize_layer.get_vocabulary()[2])\n",
    "print(\"7 ---> \",vectorize_layer.get_vocabulary()[7])\n",
    "print(\"10 ---> \",vectorize_layer.get_vocabulary()[10])\n",
    "print('Vocabulary size: {}'.format(len(vectorize_layer.get_vocabulary())))"
   ]
  },
  {
   "cell_type": "code",
   "execution_count": 18,
   "metadata": {},
   "outputs": [],
   "source": [
    "train_ds = raw_train_ds.map(vectorize_text)\n",
    "val_ds = raw_val_ds.map(vectorize_text)\n",
    "test_ds = raw_test_ds.map(vectorize_text)"
   ]
  },
  {
   "cell_type": "code",
   "execution_count": 19,
   "metadata": {},
   "outputs": [
    {
     "name": "stdout",
     "output_type": "stream",
     "text": [
      "Model: \"sequential\"\n",
      "_________________________________________________________________\n",
      "Layer (type)                 Output Shape              Param #   \n",
      "=================================================================\n",
      "embedding (Embedding)        (None, None, 16)          160016    \n",
      "_________________________________________________________________\n",
      "dropout (Dropout)            (None, None, 16)          0         \n",
      "_________________________________________________________________\n",
      "global_average_pooling1d (Gl (None, 16)                0         \n",
      "_________________________________________________________________\n",
      "dropout_1 (Dropout)          (None, 16)                0         \n",
      "_________________________________________________________________\n",
      "dense (Dense)                (None, 1)                 17        \n",
      "=================================================================\n",
      "Total params: 160,033\n",
      "Trainable params: 160,033\n",
      "Non-trainable params: 0\n",
      "_________________________________________________________________\n"
     ]
    }
   ],
   "source": [
    "model = tf.keras.Sequential([\n",
    "  layers.Embedding(max_features + 1, 16),\n",
    "  layers.Dropout(0.2),\n",
    "  layers.GlobalAveragePooling1D(),\n",
    "  layers.Dropout(0.2),\n",
    "  layers.Dense(1)])\n",
    "\n",
    "model.summary()"
   ]
  },
  {
   "cell_type": "code",
   "execution_count": 20,
   "metadata": {},
   "outputs": [],
   "source": [
    "model.compile(loss=losses.BinaryCrossentropy(from_logits=True), optimizer='adam', metrics=tf.metrics.BinaryAccuracy(threshold=0.0))\n"
   ]
  },
  {
   "cell_type": "code",
   "execution_count": 21,
   "metadata": {},
   "outputs": [
    {
     "name": "stdout",
     "output_type": "stream",
     "text": [
      "Epoch 1/15\n",
      "752/752 [==============================] - 7s 9ms/step - loss: 0.4546 - binary_accuracy: 0.9032 - val_loss: 0.2859 - val_binary_accuracy: 0.9045\n",
      "Epoch 2/15\n",
      "752/752 [==============================] - 6s 9ms/step - loss: 0.2843 - binary_accuracy: 0.9049 - val_loss: 0.2696 - val_binary_accuracy: 0.9045\n",
      "Epoch 3/15\n",
      "752/752 [==============================] - 6s 8ms/step - loss: 0.2670 - binary_accuracy: 0.9051 - val_loss: 0.2483 - val_binary_accuracy: 0.9072\n",
      "Epoch 4/15\n",
      "752/752 [==============================] - 6s 8ms/step - loss: 0.2407 - binary_accuracy: 0.9102 - val_loss: 0.2221 - val_binary_accuracy: 0.9173\n",
      "Epoch 5/15\n",
      "752/752 [==============================] - 7s 9ms/step - loss: 0.2106 - binary_accuracy: 0.9214 - val_loss: 0.1972 - val_binary_accuracy: 0.9240\n",
      "Epoch 6/15\n",
      "752/752 [==============================] - 6s 8ms/step - loss: 0.1853 - binary_accuracy: 0.9304 - val_loss: 0.1776 - val_binary_accuracy: 0.9296\n",
      "Epoch 7/15\n",
      "752/752 [==============================] - 6s 8ms/step - loss: 0.1629 - binary_accuracy: 0.9379 - val_loss: 0.1636 - val_binary_accuracy: 0.9336\n",
      "Epoch 8/15\n",
      "752/752 [==============================] - 6s 8ms/step - loss: 0.1476 - binary_accuracy: 0.9427 - val_loss: 0.1538 - val_binary_accuracy: 0.9386\n",
      "Epoch 9/15\n",
      "752/752 [==============================] - 6s 8ms/step - loss: 0.1346 - binary_accuracy: 0.9473 - val_loss: 0.1468 - val_binary_accuracy: 0.9424\n",
      "Epoch 10/15\n",
      "752/752 [==============================] - 6s 8ms/step - loss: 0.1265 - binary_accuracy: 0.9499 - val_loss: 0.1421 - val_binary_accuracy: 0.9454\n",
      "Epoch 11/15\n",
      "752/752 [==============================] - 7s 9ms/step - loss: 0.1181 - binary_accuracy: 0.9533 - val_loss: 0.1387 - val_binary_accuracy: 0.9471\n",
      "Epoch 12/15\n",
      "752/752 [==============================] - 7s 9ms/step - loss: 0.1109 - binary_accuracy: 0.9564 - val_loss: 0.1364 - val_binary_accuracy: 0.9474\n",
      "Epoch 13/15\n",
      "752/752 [==============================] - 7s 9ms/step - loss: 0.1048 - binary_accuracy: 0.9593 - val_loss: 0.1348 - val_binary_accuracy: 0.9486\n",
      "Epoch 14/15\n",
      "752/752 [==============================] - 7s 10ms/step - loss: 0.0995 - binary_accuracy: 0.9625 - val_loss: 0.1339 - val_binary_accuracy: 0.9501\n",
      "Epoch 15/15\n",
      "752/752 [==============================] - 7s 9ms/step - loss: 0.0956 - binary_accuracy: 0.9645 - val_loss: 0.1334 - val_binary_accuracy: 0.9503\n"
     ]
    }
   ],
   "source": [
    "history = model.fit(train_ds, validation_data=val_ds, epochs=15)\n"
   ]
  },
  {
   "cell_type": "code",
   "execution_count": 22,
   "metadata": {},
   "outputs": [
    {
     "name": "stdout",
     "output_type": "stream",
     "text": [
      "235/235 [==============================] - 1s 3ms/step - loss: 0.1138 - binary_accuracy: 0.9565\n",
      "Loss:  0.11380910128355026\n",
      "Accuracy:  0.9564694762229919\n"
     ]
    }
   ],
   "source": [
    "loss, accuracy = model.evaluate(test_ds)\n",
    "\n",
    "print(\"Loss: \", loss)\n",
    "print(\"Accuracy: \", accuracy)"
   ]
  },
  {
   "cell_type": "code",
   "execution_count": 23,
   "metadata": {},
   "outputs": [
    {
     "data": {
      "text/plain": [
       "dict_keys(['loss', 'binary_accuracy', 'val_loss', 'val_binary_accuracy'])"
      ]
     },
     "execution_count": 23,
     "metadata": {},
     "output_type": "execute_result"
    }
   ],
   "source": [
    "history_dict = history.history\n",
    "history_dict.keys()"
   ]
  },
  {
   "cell_type": "code",
   "execution_count": 24,
   "metadata": {},
   "outputs": [
    {
     "data": {
      "image/png": "[encoded data removed]",
      "text/plain": [
       "<Figure size 432x288 with 1 Axes>"
      ]
     },
     "metadata": {
      "needs_background": "light"
     },
     "output_type": "display_data"
    }
   ],
   "source": [
    "acc = history_dict['binary_accuracy']\n",
    "val_acc = history_dict['val_binary_accuracy']\n",
    "loss = history_dict['loss']\n",
    "val_loss = history_dict['val_loss']\n",
    "\n",
    "epochs = range(1, len(acc) + 1)\n",
    "\n",
    "# \"bo\" is for \"blue dot\"\n",
    "plt.plot(epochs, loss, 'bo', label='Training loss')\n",
    "# b is for \"solid blue line\"\n",
    "plt.plot(epochs, val_loss, 'b', label='Validation loss')\n",
    "plt.title('Training and validation loss')\n",
    "plt.xlabel('Epochs')\n",
    "plt.ylabel('Loss')\n",
    "plt.legend()\n",
    "\n",
    "plt.show()"
   ]
  },
  {
   "cell_type": "code",
   "execution_count": 25,
   "metadata": {},
   "outputs": [
    {
     "data": {
      "image/png": "[encoded data removed]",
      "text/plain": [
       "<Figure size 432x288 with 1 Axes>"
      ]
     },
     "metadata": {
      "needs_background": "light"
     },
     "output_type": "display_data"
    }
   ],
   "source": [
    "plt.plot(epochs, acc, 'bo', label='Training acc')\n",
    "plt.plot(epochs, val_acc, 'b', label='Validation acc')\n",
    "plt.title('Training and validation accuracy')\n",
    "plt.xlabel('Epochs')\n",
    "plt.ylabel('Accuracy')\n",
    "plt.legend(loc='lower right')\n",
    "\n",
    "plt.show()"
   ]
  },
  {
   "cell_type": "code",
   "execution_count": 26,
   "metadata": {},
   "outputs": [
    {
     "name": "stdout",
     "output_type": "stream",
     "text": [
      "235/235 [==============================] - 1s 3ms/step - loss: 0.1180 - accuracy: 0.9532\n",
      "0.9564694762229919\n"
     ]
    }
   ],
   "source": [
    "export_model = tf.keras.Sequential([\n",
    "  vectorize_layer,\n",
    "  model,\n",
    "  layers.Activation('sigmoid')\n",
    "])\n",
    "\n",
    "export_model.compile(\n",
    "    loss=losses.BinaryCrossentropy(from_logits=False), optimizer=\"adam\", metrics=['accuracy']\n",
    ")\n",
    "\n",
    "loss, accuracy = export_model.evaluate(raw_test_ds)\n",
    "print(accuracy)"
   ]
  },
  {
   "cell_type": "markdown",
   "metadata": {},
   "source": [
    "5 Create some test data to verify that your model works and present the prediction results here."
   ]
  },
  {
   "cell_type": "code",
   "execution_count": 44,
   "metadata": {},
   "outputs": [
    {
     "data": {
      "text/plain": [
       "array([[0.9285468 ],\n",
       "       [0.6200329 ],\n",
       "       [0.08716184],\n",
       "       [0.475243  ]], dtype=float32)"
      ]
     },
     "execution_count": 44,
     "metadata": {},
     "output_type": "execute_result"
    }
   ],
   "source": [
    "examples = [\n",
    "    \"As an almost born and raised SoCal kid, Disneyland has a special place in my heart. They claimthat it is the happiest place on Earth, and I find this cryptic lingo true. Whether their first or hundreds, people who visit here are generally excited to be taking part in this magical kingdom. From Disney-made food to merchandise, guests will splurge like money-made from Monopoly paper. Unfortunately, I am also very guilty of this participation. I ended up walking out with a special edition Disney Starbucks mug, which will sit on the shelves and never be used.\",\n",
    "    \"This is a shit place and you should never go there!!! I dont ever want to do anything like going to that rollercoaster ever again!! The place is a joke\",\n",
    "    \"I get that the crowding is a thing that has to be addressed, but it still feels a lot like Disney just laughed and ran to the bank after soaking up a whole truckload of money selling way more tickets than it had capacity for - and KNEW it didn't have capacity for - knowing that there's no way to change your mind for that year. It's over and done, and they've gotten their money so they don't care.\",\n",
    "    \"I am never going to waste my time in disney land ever again... The lines we re so long that i have never seen anything like it! i had to wait 4 hours to get into a rollercoaster and the rollercoaster really sucked. I will never come again and i won t recommend it to anyone!!\"\n",
    "]\n",
    "\n",
    "results = export_model.predict(examples)\n",
    "results"
   ]
  },
  {
   "attachments": {
    "26c07a46-8134-43e6-9206-3594712b0909.png": {
     "image/png": "[encoded data removed]"
    }
   },
   "cell_type": "markdown",
   "metadata": {},
   "source": [
    "![image.png](attachment:26c07a46-8134-43e6-9206-3594712b0909.png)"
   ]
  }
 ],
 "metadata": {
  "kernelspec": {
   "display_name": "Python 3",
   "language": "python",
   "name": "python3"
  },
  "language_info": {
   "codemirror_mode": {
    "name": "ipython",
    "version": 3
   },
   "file_extension": ".py",
   "mimetype": "text/x-python",
   "name": "python",
   "nbconvert_exporter": "python",
   "pygments_lexer": "ipython3",
   "version": "3.8.8"
  }
 },
 "nbformat": 4,
 "nbformat_minor": 4
}
