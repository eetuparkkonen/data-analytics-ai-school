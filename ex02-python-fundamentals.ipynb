{
 "cells": [
  {
   "cell_type": "markdown",
   "metadata": {},
   "source": [
    "## Exercise 2 - Python fundamentals Part 2"
   ]
  },
  {
   "cell_type": "markdown",
   "metadata": {},
   "source": [
    "1 Create a function which will go through a list called **vars** and save the type of each variable to a new list. The starting information is given in the next cell."
   ]
  },
  {
   "cell_type": "code",
   "execution_count": 5,
   "metadata": {},
   "outputs": [
    {
     "data": {
      "text/plain": [
       "[int, str, int, float, list, bool, tuple]"
      ]
     },
     "execution_count": 5,
     "metadata": {},
     "output_type": "execute_result"
    }
   ],
   "source": [
    "# Your function here\n",
    "def check_list():\n",
    "    new_lst = []\n",
    "    for i in range(7):\n",
    "        new_lst.append(type(vars[i]))\n",
    "    return new_lst\n",
    "# Test\n",
    "vars = [100,\"Car\",25000,10.0,[\"a\",\"b\",\"c\"],True,(\"a\",\"b\")]\n",
    "check_list()"
   ]
  },
  {
   "cell_type": "markdown",
   "metadata": {},
   "source": [
    "2 You are given two lists **l1** and **l2**. Create a function which will take two lists as input and print values that are present in both lists."
   ]
  },
  {
   "cell_type": "code",
   "execution_count": 3,
   "metadata": {},
   "outputs": [
    {
     "name": "stdout",
     "output_type": "stream",
     "text": [
      "[1, 5, 7, 9]\n"
     ]
    }
   ],
   "source": [
    "# Your function here\n",
    "def check_lists(l1, l2):\n",
    "    l3 = []\n",
    "    for number in l1:\n",
    "        if number in l2:\n",
    "            l3.append(number)\n",
    "    print(l3)\n",
    "\n",
    "\n",
    "# Test\n",
    "l1 = [1,4,5,7,8,9,10]\n",
    "l2 = [1,2,3,5,6,7,9]\n",
    "check_lists(l1, l2)"
   ]
  },
  {
   "cell_type": "markdown",
   "metadata": {},
   "source": [
    "3 Below is a list containing words. Create a function which returns only words with length of 4 or less."
   ]
  },
  {
   "cell_type": "code",
   "execution_count": 7,
   "metadata": {},
   "outputs": [
    {
     "name": "stdout",
     "output_type": "stream",
     "text": [
      "['code', '', 'red', 'mill', 'are']\n"
     ]
    }
   ],
   "source": [
    "# Your function here\n",
    "def wordsFunc(x):\n",
    "    wordsLength = []\n",
    "    for word in x:\n",
    "        if len(word) <= 4:\n",
    "            wordsLength.append(word)\n",
    "    print(wordsLength)\n",
    "# Test\n",
    "words = [\"bootcamp\",\"yellow\",\"development\",\"full-time\",\"code\",\"fresh\",\"\",\"static\",\"red\",\"advance\",\"mill\",\"story\",\"are\"]\n",
    "wordsFunc(words)"
   ]
  },
  {
   "cell_type": "markdown",
   "metadata": {},
   "source": [
    "4 Create a function which takes does the following:\n",
    "    - Take list of dictionaries containing information of data loggers presented below as an input\n",
    "    - Iterate through the dictionary and containing the count for total amount of each sensor type. Example: {\"temp\":2,\"hum\":5,\"light\":2,\"noise\":4}.\n",
    "    - Return this dictionary"
   ]
  },
  {
   "cell_type": "code",
   "execution_count": 1,
   "metadata": {},
   "outputs": [
    {
     "data": {
      "text/plain": [
       "{'temp': 5, 'hum': 5, 'light': 1, 'noise': 2}"
      ]
     },
     "execution_count": 1,
     "metadata": {},
     "output_type": "execute_result"
    }
   ],
   "source": [
    "def count(lst):\n",
    "    totalTemp = 0\n",
    "    totalHum = 0\n",
    "    totalNoise = 0\n",
    "    totalLight = 0\n",
    "    totalsDict = {'temp': 0, 'hum': 0, 'light': 0, 'noise': 0}\n",
    "            \n",
    "    for i in sdata:\n",
    "        try:\n",
    "            \n",
    "            if i['sensors'][i['sensors'].index('hum')]:\n",
    "                totalHum += 1\n",
    "            if i['sensors'][i['sensors'].index('temp')]:\n",
    "                totalTemp += 1\n",
    "            if i['sensors'][i['sensors'].index('noise')]:\n",
    "                totalNoise += 1\n",
    "            if i['sensors'][i['sensors'].index('light')]:\n",
    "                totalLight += 1\n",
    "        except ValueError:\n",
    "            continue\n",
    "            \n",
    "        totalsDict['temp'] = totalTemp\n",
    "        totalsDict['hum'] = totalHum\n",
    "        totalsDict['noise'] = totalNoise\n",
    "        totalsDict['light'] = totalLight\n",
    "        return totalsDict\n",
    "\n",
    "    \n",
    "    \n",
    "\n",
    "\n",
    "    \n",
    "# Data loggers\n",
    "sdata = [{\"ID\":\"logger-1\",\"sensors\":[\"temp\",\"hum\",\"noise\"]},{\"ID\":\"logger-2\",\"sensors\":[\"temp\",\"hum\"]},{\"ID\":\"logger-3\",\"sensors\":[\"temp\",\"hum\",\"light\"]},{\"ID\":\"logger-4\",\"sensors\":[\"temp\",\"hum\",\"light\"]},{\"ID\":\"logger-5\",\"sensors\":[\"temp\",\"hum\",\"noise\",\"light\"]}]\n",
    "count(sdata)"
   ]
  },
  {
   "cell_type": "markdown",
   "metadata": {},
   "source": [
    "5 Create a class for computer user which contains the following information:\n",
    "- Attributes\n",
    "    - username\n",
    "    - password (in plaintext)\n",
    "    - account status (active, locked)\n",
    "    - usertype (guest,regular,admin)\n",
    "- Methods\n",
    "    - check account status\n",
    "    - change account status\n",
    "    - change password (must be at least 8 characters long or error is shown)\n",
    "\n",
    "Test the operation of your class! Password check does not have to be done when password is initially set for the object."
   ]
  },
  {
   "cell_type": "code",
   "execution_count": 15,
   "metadata": {},
   "outputs": [
    {
     "name": "stdout",
     "output_type": "stream",
     "text": [
      "Your account is active\n",
      "Error, password must be at least 8 charecters long\n",
      "admin\n"
     ]
    }
   ],
   "source": [
    "class computer:\n",
    "    def __init__(self, username, status, usertype):\n",
    "        self.username = username\n",
    "        self.status = status\n",
    "        self.usertype = usertype       \n",
    "        \n",
    "    def checkStatus(self):\n",
    "        if self.status == 'locked':\n",
    "            print('Account locked')\n",
    "            \n",
    "        elif self.status == 'active':  \n",
    "            print('Your account is active')\n",
    "            \n",
    "        else:\n",
    "            print('Is your account active or locked?')\n",
    "    \n",
    "    def changeStatus(self, status):\n",
    "        self.status = status\n",
    "        return status\n",
    "    \n",
    "    def changePassword(self, password):\n",
    "        if len(password) >= 8:\n",
    "            self.password = password\n",
    "            return password\n",
    "        else:\n",
    "            print('Error, password must be at least 8 charecters long')\n",
    "    \n",
    "        \n",
    "\n",
    "jorma = computer('Jorma', 'active', 'admin')\n",
    "\n",
    "jorma.checkStatus()\n",
    "\n",
    "jorma.changeStatus('locked')\n",
    "\n",
    "jorma.changePassword('asd')\n",
    "\n",
    "jorma.changePassword('asgjasgjaijsgj')\n"
   ]
  },
  {
   "cell_type": "code",
   "execution_count": null,
   "metadata": {
    "jupyter": {
     "source_hidden": true
    },
    "tags": []
   },
   "outputs": [],
   "source": []
  }
 ],
 "metadata": {
  "kernelspec": {
   "display_name": "Python 3",
   "language": "python",
   "name": "python3"
  },
  "language_info": {
   "codemirror_mode": {
    "name": "ipython",
    "version": 3
   },
   "file_extension": ".py",
   "mimetype": "text/x-python",
   "name": "python",
   "nbconvert_exporter": "python",
   "pygments_lexer": "ipython3",
   "version": "3.8.8"
  }
 },
 "nbformat": 4,
 "nbformat_minor": 4
}
