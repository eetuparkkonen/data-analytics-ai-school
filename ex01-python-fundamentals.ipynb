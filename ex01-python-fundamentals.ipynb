{
 "cells": [
  {
   "cell_type": "markdown",
   "metadata": {},
   "source": [
    "## Exercise 1 - Python fundamentals Part 1"
   ]
  },
  {
   "cell_type": "markdown",
   "metadata": {},
   "source": [
    "1 Sentence is presented in the code cell below. Create a variable which has first ten and last ten characters concatenated."
   ]
  },
  {
   "cell_type": "code",
   "execution_count": 1,
   "metadata": {},
   "outputs": [],
   "source": [
    "# Sentence\n",
    "s = \"Gary must look towards the future in order to gather enough information from the target.\"\n",
    "\n",
    "a = s[:10] + s[-10:] # toivottavasti ymmärsin oikein, len(a) = 20"
   ]
  },
  {
   "cell_type": "markdown",
   "metadata": {},
   "source": [
    "2 Count the number of white spaces between words from the previous sentence and divide that number with the length of the sentence."
   ]
  },
  {
   "cell_type": "code",
   "execution_count": 2,
   "metadata": {
    "tags": []
   },
   "outputs": [
    {
     "name": "stdout",
     "output_type": "stream",
     "text": [
      "0.1590909090909091\n"
     ]
    }
   ],
   "source": [
    "# Your answer here\n",
    "def check_space(s):\n",
    "    \n",
    "    count = 0\n",
    "     \n",
    "    for i in s:\n",
    "         \n",
    "        if i == \" \":\n",
    "            count += 1\n",
    "         \n",
    "    print(count / len(s))\n",
    "    \n",
    "check_space(s)"
   ]
  },
  {
   "cell_type": "markdown",
   "metadata": {},
   "source": [
    "3 Add the following cars to the existing list of dictionary objects:\n",
    "    - Red Toyota Corolla (1985)\n",
    "    - Lightblue Ford Mustang (1965)\n",
    "    - Black Pontiac Firebird (1987)"
   ]
  },
  {
   "cell_type": "code",
   "execution_count": 3,
   "metadata": {},
   "outputs": [
    {
     "name": "stdout",
     "output_type": "stream",
     "text": [
      "[{'make': 'Ford', 'model': 'escort', 'color': 'green', 'year': 1994}, {'make': 'Lexus', 'model': 'IS250', 'color': 'beige', 'year': 2013}, {'make': 'Volvo', 'model': 'S40', 'color': 'blue', 'year': 1998}, {'make': 'Toyota', 'model': 'corolla', 'color': 'red', 'year': 1985}, {'make': 'Ford', 'model': 'mustang', 'color': 'lightblue', 'year': 1965}, {'make': 'Pontiac', 'model': 'firebird', 'color': 'black', 'year': 1987}]\n"
     ]
    }
   ],
   "source": [
    "# Cars\n",
    "cars = [{\"make\":\"Ford\",\"model\":\"escort\",\"color\":\"green\",\"year\":1994},{\"make\":\"Lexus\",\"model\":\"IS250\",\"color\":\"beige\",\"year\":2013},{\"make\":\"Volvo\",\"model\":\"S40\",\"color\":\"blue\",\"year\":1998}]\n",
    "\n",
    "toyota = { 'make': 'Toyota', 'model': 'corolla', 'color': 'red', 'year': 1985 }\n",
    "\n",
    "ford = { 'make': 'Ford', 'model': 'mustang', 'color': 'lightblue', 'year': 1965 }\n",
    "\n",
    "pontiac = { 'make': 'Pontiac', 'model': 'firebird', 'color': 'black', 'year': 1987 }\n",
    "\n",
    "cars.extend([toyota, ford, pontiac])\n",
    "\n",
    "print(cars)"
   ]
  },
  {
   "cell_type": "markdown",
   "metadata": {},
   "source": [
    "4 Convert the sentence presented below to list using commas (,) as separators. Then create a new list which contains only the last three items from the list."
   ]
  },
  {
   "cell_type": "code",
   "execution_count": 4,
   "metadata": {
    "tags": []
   },
   "outputs": [
    {
     "name": "stdout",
     "output_type": "stream",
     "text": [
      "[['a', 't', '.']]\n"
     ]
    }
   ],
   "source": [
    "# Sentence\n",
    "s = \"Occaecat short ribs incididunt laboris. Bresaola, brisket ex, landjaeger ad, boudin pariatur frankfurter eu flank. Enim tail short ribs, shoulder duis minim excepteur, deserunt lorem porchetta. Dolor chicken spare ribs, id in, ball, tip, hamburger labore venison consectetur cupidatat.\"\n",
    "\n",
    "listed = list(s)\n",
    "\n",
    "newList = []\n",
    "\n",
    "newList.append(listed[-3:])\n",
    "\n",
    "print(newList)"
   ]
  },
  {
   "cell_type": "markdown",
   "metadata": {},
   "source": [
    "5 Below is a list containing words. Sort the words in the first half of the list by length in ascending order and words in the last half of the list so that words will be sorted alphabetically in descending order. Combine these list into one."
   ]
  },
  {
   "cell_type": "code",
   "execution_count": 11,
   "metadata": {},
   "outputs": [
    {
     "name": "stdout",
     "output_type": "stream",
     "text": [
      "['brainstorming', 'leftover', 'north', 'outside', 'pass', 'staff', 'bandwidth', 'fruit', 'globalize', 'outsourcing', 'productive', 'zero']\n"
     ]
    }
   ],
   "source": [
    "# Word list\n",
    "word_list = [\"brainstorming\",\"staff\",\"north\",\"outside\",\"pass\",\"leftover\",\"offline\",\"journey\",\"globalize\",\"zero\",\"bandwidth\",\"outsourcing\",\"fruit\",\"productive\"]\n",
    "\n",
    "word_list_ascending = sorted(word_list[:6])\n",
    "\n",
    "word_list_descending = sorted(word_list[-6:])\n",
    "\n",
    "combined_lists = word_list_ascending + word_list_descending\n",
    "\n",
    "print(combined_lists)\n"
   ]
  }
 ],
 "metadata": {
  "kernelspec": {
   "display_name": "Python 3",
   "language": "python",
   "name": "python3"
  },
  "language_info": {
   "codemirror_mode": {
    "name": "ipython",
    "version": 3
   },
   "file_extension": ".py",
   "mimetype": "text/x-python",
   "name": "python",
   "nbconvert_exporter": "python",
   "pygments_lexer": "ipython3",
   "version": "3.8.8"
  }
 },
 "nbformat": 4,
 "nbformat_minor": 4
}
